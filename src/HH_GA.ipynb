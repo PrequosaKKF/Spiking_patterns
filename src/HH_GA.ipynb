{
 "cells": [
  {
   "cell_type": "code",
   "execution_count": 1,
   "metadata": {},
   "outputs": [],
   "source": [
    "import evox as ev\n",
    "from evox.workflows import StdWorkflow\n",
    "import numpy as np\n",
    "from model import IzhikevichModel\n",
    "import neuron as nr\n",
    "from neuron.units import mV, ms\n",
    "import pandas as pd"
   ]
  },
  {
   "cell_type": "markdown",
   "metadata": {},
   "source": []
  },
  {
   "cell_type": "code",
   "execution_count": 4,
   "metadata": {},
   "outputs": [],
   "source": [
    "params = pd.read_csv('2-000-1_paramset.csv', names=[\"k\", \"a\", \"b\", \"d\", \"C\", \"Vr\", \"Vt\", \"Vmin\", \"Vp\"])"
   ]
  },
  {
   "cell_type": "code",
   "execution_count": null,
   "metadata": {},
   "outputs": [
    {
     "ename": "",
     "evalue": "",
     "output_type": "error",
     "traceback": [
      "\u001b[1;31mFailed to start the Kernel. \n",
      "\u001b[1;31mUnable to start Kernel 'Python 3.10.12' due to a connection timeout. \n",
      "\u001b[1;31mView Jupyter <a href='command:jupyter.viewOutput'>log</a> for further details."
     ]
    }
   ],
   "source": [
    "soma = nr.h.Section(name=\"soma\")\n",
    "soma.insert('hh')\n",
    "iclamp = nr.h.IClamp(soma(0.5))\n",
    "iclamp.delay = 10\n",
    "iclamp.dur = 230\n",
    "\n",
    "solutions           = [7.57575758e+01, 3.50000000e+01, 9.39393939e+01, 6.56565657e+01,\n",
    "       3.43434343e-03, 1.51515152e+00, 1.21212121e+00]\n",
    "soma.L              = solutions[0]\n",
    "soma.diam           = solutions[1]\n",
    "soma(0.5).hh.gkbar  = solutions[2]\n",
    "soma(0.5).hh.gnabar = solutions[3]\n",
    "soma(0.5).hh.gl     = solutions[4]\n",
    "soma.cm             = solutions[5]\n",
    "iclamp.amp          = solutions[6]\n",
    "\n",
    "v = nr.h.Vector().record(soma(0.5)._ref_v)\n",
    "t = nr.h.Vector().record(nr.h._ref_t)\n",
    "\n",
    "nr.h.load_file(\"stdrun.hoc\")\n",
    "nr.h.finitialize(-65 * mV)\n",
    "nr.h.continuerun(250 * ms)"
   ]
  },
  {
   "cell_type": "code",
   "execution_count": 164,
   "metadata": {},
   "outputs": [
    {
     "name": "stdout",
     "output_type": "stream",
     "text": [
      "Help on class StdSOMonitor in module evox.monitors.std_so_monitor:\n",
      "\n",
      "class StdSOMonitor(builtins.object)\n",
      " |  StdSOMonitor(record_topk=1, record_fit_history=True, record_pop_history=False)\n",
      " |  \n",
      " |  Standard single-objective monitor\n",
      " |  Used for single-objective workflow,\n",
      " |  can monitor fitness and the population.\n",
      " |  \n",
      " |  Parameters\n",
      " |  ----------\n",
      " |  record_topk\n",
      " |      Control how many elite solutions are recorded.\n",
      " |      Default is 1, which will record the best individual.\n",
      " |  record_fit_history\n",
      " |      Whether to record the full history of fitness value.\n",
      " |      Default to True. Setting it to False may reduce memory usage.\n",
      " |  \n",
      " |  Methods defined here:\n",
      " |  \n",
      " |  __init__(self, record_topk=1, record_fit_history=True, record_pop_history=False)\n",
      " |      Initialize self.  See help(type(self)) for accurate signature.\n",
      " |  \n",
      " |  close(self)\n",
      " |  \n",
      " |  flush(self)\n",
      " |  \n",
      " |  get_best_fitness(self)\n",
      " |  \n",
      " |  get_best_solution(self)\n",
      " |  \n",
      " |  get_history(self)\n",
      " |  \n",
      " |  get_last(self)\n",
      " |  \n",
      " |  get_topk_fitness(self)\n",
      " |  \n",
      " |  get_topk_solutions(self)\n",
      " |  \n",
      " |  hooks(self)\n",
      " |  \n",
      " |  post_ask(self, _state, cand_sol)\n",
      " |  \n",
      " |  post_eval(self, _state, _cand_sol, _transformed_cand_sol, fitness)\n",
      " |  \n",
      " |  record_fit(self, fitness, metrics=None, transform=None)\n",
      " |  \n",
      " |  record_pop(self, pop, tranform=None)\n",
      " |  \n",
      " |  set_opt_direction(self, opt_direction)\n",
      " |  \n",
      " |  ----------------------------------------------------------------------\n",
      " |  Data descriptors defined here:\n",
      " |  \n",
      " |  __dict__\n",
      " |      dictionary for instance variables (if defined)\n",
      " |  \n",
      " |  __weakref__\n",
      " |      list of weak references to the object (if defined)\n",
      "\n"
     ]
    }
   ],
   "source": [
    "help(ev.monitors.StdSOMonitor)"
   ]
  },
  {
   "cell_type": "code",
   "execution_count": 165,
   "metadata": {},
   "outputs": [],
   "source": [
    "import jax\n",
    "import jax.numpy as jnp\n",
    "\n",
    "algorithm = ev.algorithms.PSO(\n",
    "    lb=jnp.full(shape=(2,), fill_value=-32),\n",
    "    ub=jnp.full(shape=(2,), fill_value=32),\n",
    "    pop_size=100\n",
    ")\n",
    "problem = ev.problems.numerical.Ackley()\n",
    "monitor = ev.monitors.StdSOMonitor(record_topk=10)\n",
    "\n",
    "workflow = ev.workflows.StdWorkflow(\n",
    "    algorithm,\n",
    "    problem,\n",
    "    monitors=[monitor]\n",
    ")\n",
    "\n",
    "key = jax.random.PRNGKey(42)\n",
    "state = workflow.init(key)\n",
    "\n",
    "for i in range(100):\n",
    "    state = workflow.step(state)"
   ]
  },
  {
   "cell_type": "code",
   "execution_count": 169,
   "metadata": {},
   "outputs": [
    {
     "data": {
      "text/html": [
       "\n",
       "  <div id=\"dcd75f94-a5a6-4527-9329-948639837403\" data-root-id=\"p2334\" style=\"display: contents;\"></div>\n"
      ]
     },
     "metadata": {},
     "output_type": "display_data"
    },
    {
     "data": {
      "application/javascript": "(function(root) {\n  function embed_document(root) {\n  const docs_json = {\"d913b11b-812f-4422-b598-786fc937fcdb\":{\"version\":\"3.3.4\",\"title\":\"Bokeh Application\",\"roots\":[{\"type\":\"object\",\"name\":\"Figure\",\"id\":\"p2334\",\"attributes\":{\"x_range\":{\"type\":\"object\",\"name\":\"DataRange1d\",\"id\":\"p2335\"},\"y_range\":{\"type\":\"object\",\"name\":\"DataRange1d\",\"id\":\"p2336\"},\"x_scale\":{\"type\":\"object\",\"name\":\"LinearScale\",\"id\":\"p2343\"},\"y_scale\":{\"type\":\"object\",\"name\":\"LinearScale\",\"id\":\"p2344\"},\"title\":{\"type\":\"object\",\"name\":\"Title\",\"id\":\"p2341\"},\"renderers\":[{\"type\":\"object\",\"name\":\"GlyphRenderer\",\"id\":\"p2372\",\"attributes\":{\"data_source\":{\"type\":\"object\",\"name\":\"ColumnDataSource\",\"id\":\"p2366\",\"attributes\":{\"selected\":{\"type\":\"object\",\"name\":\"Selection\",\"id\":\"p2367\",\"attributes\":{\"indices\":[],\"line_indices\":[]}},\"selection_policy\":{\"type\":\"object\",\"name\":\"UnionRenderers\",\"id\":\"p2368\"},\"data\":{\"type\":\"map\",\"entries\":[[\"x\",{\"type\":\"ndarray\",\"array\":{\"type\":\"bytes\",\"data\":\"k38gtZoz4jR+iKG0cHvANBw7BLRA6l0zEWgBtZC1HTPY9Zez4JPGtA==\"},\"shape\":[10],\"dtype\":\"float32\",\"order\":\"little\"}],[\"y\",{\"type\":\"ndarray\",\"array\":{\"type\":\"bytes\",\"data\":\"AFqxs+MY8zRAN+syGIhrM4wx7jNjnlY0vsQ1tM1RMTRIur+0IOZ6NA==\"},\"shape\":[10],\"dtype\":\"float32\",\"order\":\"little\"}]]}}},\"view\":{\"type\":\"object\",\"name\":\"CDSView\",\"id\":\"p2373\",\"attributes\":{\"filter\":{\"type\":\"object\",\"name\":\"AllIndices\",\"id\":\"p2374\"}}},\"glyph\":{\"type\":\"object\",\"name\":\"Scatter\",\"id\":\"p2369\",\"attributes\":{\"x\":{\"type\":\"field\",\"field\":\"x\"},\"y\":{\"type\":\"field\",\"field\":\"y\"},\"line_color\":{\"type\":\"value\",\"value\":\"#1f77b4\"},\"fill_color\":{\"type\":\"value\",\"value\":\"#1f77b4\"}}},\"nonselection_glyph\":{\"type\":\"object\",\"name\":\"Scatter\",\"id\":\"p2370\",\"attributes\":{\"x\":{\"type\":\"field\",\"field\":\"x\"},\"y\":{\"type\":\"field\",\"field\":\"y\"},\"line_color\":{\"type\":\"value\",\"value\":\"#1f77b4\"},\"line_alpha\":{\"type\":\"value\",\"value\":0.1},\"fill_color\":{\"type\":\"value\",\"value\":\"#1f77b4\"},\"fill_alpha\":{\"type\":\"value\",\"value\":0.1},\"hatch_alpha\":{\"type\":\"value\",\"value\":0.1}}},\"muted_glyph\":{\"type\":\"object\",\"name\":\"Scatter\",\"id\":\"p2371\",\"attributes\":{\"x\":{\"type\":\"field\",\"field\":\"x\"},\"y\":{\"type\":\"field\",\"field\":\"y\"},\"line_color\":{\"type\":\"value\",\"value\":\"#1f77b4\"},\"line_alpha\":{\"type\":\"value\",\"value\":0.2},\"fill_color\":{\"type\":\"value\",\"value\":\"#1f77b4\"},\"fill_alpha\":{\"type\":\"value\",\"value\":0.2},\"hatch_alpha\":{\"type\":\"value\",\"value\":0.2}}}}}],\"toolbar\":{\"type\":\"object\",\"name\":\"Toolbar\",\"id\":\"p2342\",\"attributes\":{\"tools\":[{\"type\":\"object\",\"name\":\"PanTool\",\"id\":\"p2355\"},{\"type\":\"object\",\"name\":\"WheelZoomTool\",\"id\":\"p2356\",\"attributes\":{\"renderers\":\"auto\"}},{\"type\":\"object\",\"name\":\"BoxZoomTool\",\"id\":\"p2357\",\"attributes\":{\"overlay\":{\"type\":\"object\",\"name\":\"BoxAnnotation\",\"id\":\"p2358\",\"attributes\":{\"syncable\":false,\"level\":\"overlay\",\"visible\":false,\"left\":{\"type\":\"number\",\"value\":\"nan\"},\"right\":{\"type\":\"number\",\"value\":\"nan\"},\"top\":{\"type\":\"number\",\"value\":\"nan\"},\"bottom\":{\"type\":\"number\",\"value\":\"nan\"},\"left_units\":\"canvas\",\"right_units\":\"canvas\",\"top_units\":\"canvas\",\"bottom_units\":\"canvas\",\"line_color\":\"black\",\"line_alpha\":1.0,\"line_width\":2,\"line_dash\":[4,4],\"fill_color\":\"lightgrey\",\"fill_alpha\":0.5}}}},{\"type\":\"object\",\"name\":\"SaveTool\",\"id\":\"p2363\"},{\"type\":\"object\",\"name\":\"ResetTool\",\"id\":\"p2364\"},{\"type\":\"object\",\"name\":\"HelpTool\",\"id\":\"p2365\"}]}},\"left\":[{\"type\":\"object\",\"name\":\"LinearAxis\",\"id\":\"p2350\",\"attributes\":{\"ticker\":{\"type\":\"object\",\"name\":\"BasicTicker\",\"id\":\"p2351\",\"attributes\":{\"mantissas\":[1,2,5]}},\"formatter\":{\"type\":\"object\",\"name\":\"BasicTickFormatter\",\"id\":\"p2352\"},\"major_label_policy\":{\"type\":\"object\",\"name\":\"AllLabels\",\"id\":\"p2353\"}}}],\"below\":[{\"type\":\"object\",\"name\":\"LinearAxis\",\"id\":\"p2345\",\"attributes\":{\"ticker\":{\"type\":\"object\",\"name\":\"BasicTicker\",\"id\":\"p2346\",\"attributes\":{\"mantissas\":[1,2,5]}},\"formatter\":{\"type\":\"object\",\"name\":\"BasicTickFormatter\",\"id\":\"p2347\"},\"major_label_policy\":{\"type\":\"object\",\"name\":\"AllLabels\",\"id\":\"p2348\"}}}],\"center\":[{\"type\":\"object\",\"name\":\"Grid\",\"id\":\"p2349\",\"attributes\":{\"axis\":{\"id\":\"p2345\"}}},{\"type\":\"object\",\"name\":\"Grid\",\"id\":\"p2354\",\"attributes\":{\"dimension\":1,\"axis\":{\"id\":\"p2350\"}}}]}}]}};\n  const render_items = [{\"docid\":\"d913b11b-812f-4422-b598-786fc937fcdb\",\"roots\":{\"p2334\":\"dcd75f94-a5a6-4527-9329-948639837403\"},\"root_ids\":[\"p2334\"]}];\n  root.Bokeh.embed.embed_items_notebook(docs_json, render_items);\n  }\n  if (root.Bokeh !== undefined) {\n    embed_document(root);\n  } else {\n    let attempts = 0;\n    const timer = setInterval(function(root) {\n      if (root.Bokeh !== undefined) {\n        clearInterval(timer);\n        embed_document(root);\n      } else {\n        attempts++;\n        if (attempts > 100) {\n          clearInterval(timer);\n          console.log(\"Bokeh: ERROR: Unable to run BokehJS code because BokehJS library is missing\");\n        }\n      }\n    }, 10, root)\n  }\n})(window);",
      "application/vnd.bokehjs_exec.v0+json": ""
     },
     "metadata": {
      "application/vnd.bokehjs_exec.v0+json": {
       "id": "p2334"
      }
     },
     "output_type": "display_data"
    }
   ],
   "source": [
    "f0 = bkplt.figure()\n",
    "f0.scatter(monitor.get_topk_solutions()[:,0], monitor.get_topk_solutions()[:,1])\n",
    "bkplt.show(f0)"
   ]
  },
  {
   "cell_type": "code",
   "execution_count": 2,
   "metadata": {},
   "outputs": [],
   "source": [
    "import jax\n",
    "import jax.numpy as jnp"
   ]
  },
  {
   "cell_type": "code",
   "execution_count": 193,
   "metadata": {},
   "outputs": [
    {
     "data": {
      "text/plain": [
       "datetime.timedelta(microseconds=1737)"
      ]
     },
     "execution_count": 193,
     "metadata": {},
     "output_type": "execute_result"
    }
   ],
   "source": [
    "from datetime import datetime\n",
    "import jax.numpy as jnp\n",
    "t0 = datetime.now()\n",
    "jnp.sum(jnp.abs(jnp.array([1,2,3]) - jnp.array([2,3,4])))\n",
    "t1 = datetime.now()\n",
    "t1-t0"
   ]
  },
  {
   "cell_type": "code",
   "execution_count": 3,
   "metadata": {},
   "outputs": [],
   "source": [
    "params_limit = {\n",
    "   'L'      : np.linspace(4,100,100).tolist(), #um\n",
    "   'diam'   : np.linspace(5,140,100).tolist(), #um\n",
    "   'gkbar'  : np.linspace(0,100,100).tolist(),\n",
    "   'gnabar' : np.linspace(0,100,100).tolist(),\n",
    "   'gl'     : np.linspace(0,.01,100).tolist(),\n",
    "   'cm'     : np.linspace(0,10,100).tolist(),\n",
    "   'amp'    : np.linspace(0,10,100).tolist(),\n",
    "}"
   ]
  },
  {
   "cell_type": "code",
   "execution_count": 25,
   "metadata": {},
   "outputs": [
    {
     "ename": "AttributeError",
     "evalue": "'Ackley' object has no attribute '_module_name'",
     "output_type": "error",
     "traceback": [
      "\u001b[0;31m---------------------------------------------------------------------------\u001b[0m",
      "\u001b[0;31mAttributeError\u001b[0m                            Traceback (most recent call last)",
      "\u001b[0;32m/tmp/ipykernel_84133/1960356309.py\u001b[0m in \u001b[0;36m<module>\u001b[0;34m\u001b[0m\n\u001b[0;32m----> 1\u001b[0;31m \u001b[0mev\u001b[0m\u001b[0;34m.\u001b[0m\u001b[0mproblems\u001b[0m\u001b[0;34m.\u001b[0m\u001b[0mnumerical\u001b[0m\u001b[0;34m.\u001b[0m\u001b[0mAckley\u001b[0m\u001b[0;34m(\u001b[0m\u001b[0;34m)\u001b[0m\u001b[0;34m.\u001b[0m\u001b[0m_module_name\u001b[0m\u001b[0;34m\u001b[0m\u001b[0;34m\u001b[0m\u001b[0m\n\u001b[0m",
      "\u001b[0;31mAttributeError\u001b[0m: 'Ackley' object has no attribute '_module_name'"
     ]
    }
   ],
   "source": [
    "ev.problems.numerical.Ackley()._module_name"
   ]
  },
  {
   "cell_type": "code",
   "execution_count": 217,
   "metadata": {},
   "outputs": [],
   "source": [
    "from jax.numpy import std\n",
    "import numpy as np\n",
    "\n",
    "center_init=jnp.array([2.0e+01, 2.0e+01, 3.6e-02, 1.2e-01, 3.0e-04, 1.0e+00, 5.0e-01])\n",
    "lb=jnp.array([4,5,0,0,0,0,0])\n",
    "ub=jnp.array([100,140,100,100,.01,10,10])\n",
    "\n",
    "algorithm = ev.algorithms.PSO(\n",
    "       pop_size=100,\n",
    "       lb=lb,\n",
    "       ub=ub\n",
    ")\n",
    "tmp = 0\n",
    "@ev.jit_class\n",
    "class MatchSignal(ev.Problem):\n",
    "       def __init__(self) -> None:\n",
    "              super().__init__()\n",
    "              self.vsignal = np.fromfile(\"RS.csv\")\n",
    "              self.soma = nr.h.Section(name=\"soma\")\n",
    "              self.soma.insert('hh')\n",
    "              self.iclamp = nr.h.IClamp(self.soma(0.5))\n",
    "              self.iclamp.delay = 10\n",
    "              self.iclamp.dur = 230\n",
    "              nr.h.load_file(\"stdrun.hoc\")\n",
    "              self.v = nr.h.Vector().record(self.soma(0.5)._ref_v)\n",
    "              self.t = nr.h.Vector().record(nr.h._ref_t)\n",
    "       def __fitness_func(self, solution, i):\n",
    "              print(solution.at[i,0].get())\n",
    "              self.soma.L              = solution.at[0].get()\n",
    "              self.soma.diam           = solution.at[1].get()\n",
    "              self.soma(0.5).hh.gkbar  = solution.at[2].get()\n",
    "              self.soma(0.5).hh.gnabar = solution.at[3].get()\n",
    "              self.soma(0.5).hh.gl     = solution.at[4].get()\n",
    "              self.soma.cm             = solution.at[5].get()\n",
    "              self.iclamp.amp          = solution.at[6].get()\n",
    "              nr.h.finitialize(-65 * mV)\n",
    "              nr.h.continuerun(250 * ms)\n",
    "              return 1e3-jnp.sum(jnp.abs(self.v.as_numpy() - self.vsignal))\n",
    "       def evaluate(self, state, solutions):\n",
    "              global tmp\n",
    "              tmp = solutions\n",
    "              fitness = jnp.zeros(solutions.shape[0])\n",
    "              for i in range(solutions.shape[0]):\n",
    "                     fitness[i] = self._fitness_func(solutions,i)\n",
    "              return fitness, state\n",
    "problem = MatchSignal()\n",
    "monitor = ev.monitors.StdSOMonitor(record_topk=10)\n",
    "\n",
    "workflow = ev.workflows.StdWorkflow(\n",
    "       algorithm,\n",
    "       problem,\n",
    "       monitors=[monitor]\n",
    ")"
   ]
  },
  {
   "cell_type": "code",
   "execution_count": 17,
   "metadata": {},
   "outputs": [],
   "source": [
    "import jax\n",
    "import jax.numpy as jnp\n",
    "import scipy.special\n",
    "@jax.jit\n",
    "def jv(v, z):\n",
    "    v, z = jnp.asarray(v), jnp.asarray(z)\n",
    "    print(v)\n",
    "    assert jnp.issubdtype(v.dtype, jnp.integer)\n",
    "    z = z.astype(jnp.result_type(float, z.dtype))\n",
    "\n",
    "    _scipy_jv = lambda v, z: scipy.special.jv(v, z).astype(z.dtype)\n",
    "\n",
    "    result_shape_dtype = jax.ShapeDtypeStruct(\n",
    "        shape=jnp.broadcast_shapes(v.shape,z.shape),\n",
    "        dtype=z.dtype\n",
    "    )\n",
    "    return jax.pure_callback(_scipy_jv, result_shape_dtype, v, z, vectorized=True)"
   ]
  },
  {
   "cell_type": "code",
   "execution_count": 23,
   "metadata": {},
   "outputs": [
    {
     "name": "stdout",
     "output_type": "stream",
     "text": [
      "954 µs ± 42.4 µs per loop (mean ± std. dev. of 7 runs, 1000 loops each)\n"
     ]
    }
   ],
   "source": [
    "from functools import partial\n",
    "j1 = partial(jv, 1)\n",
    "z = jnp.arange(5.0)\n",
    "%timeit j1(z)"
   ]
  },
  {
   "cell_type": "code",
   "execution_count": 3,
   "metadata": {},
   "outputs": [
    {
     "name": "stdout",
     "output_type": "stream",
     "text": [
      "Help on function result_type in module jax._src.numpy.lax_numpy:\n",
      "\n",
      "result_type(*args: 'Any') -> 'DType'\n",
      "    Returns the type that results from applying the NumPy\n",
      "    \n",
      "    LAX-backend implementation of :func:`numpy.result_type`.\n",
      "    \n",
      "    *Original docstring below.*\n",
      "    \n",
      "    type promotion rules to the arguments.\n",
      "    \n",
      "    Type promotion in NumPy works similarly to the rules in languages\n",
      "    like C++, with some slight differences.  When both scalars and\n",
      "    arrays are used, the array's type takes precedence and the actual value\n",
      "    of the scalar is taken into account.\n",
      "    \n",
      "    For example, calculating 3*a, where a is an array of 32-bit floats,\n",
      "    intuitively should result in a 32-bit float output.  If the 3 is a\n",
      "    32-bit integer, the NumPy rules indicate it can't convert losslessly\n",
      "    into a 32-bit float, so a 64-bit float should be the result type.\n",
      "    By examining the value of the constant, '3', we see that it fits in\n",
      "    an 8-bit integer, which can be cast losslessly into the 32-bit float.\n",
      "    \n",
      "    Returns\n",
      "    -------\n",
      "    out : dtype\n",
      "        The result type.\n",
      "\n"
     ]
    }
   ],
   "source": [
    "help(jnp.result_type)"
   ]
  },
  {
   "cell_type": "code",
   "execution_count": 11,
   "metadata": {},
   "outputs": [
    {
     "name": "stdout",
     "output_type": "stream",
     "text": [
      "Traced<ShapedArray(float32[3,4])>with<DynamicJaxprTrace(level=1/0)>\n"
     ]
    },
    {
     "data": {
      "text/plain": [
       "Array([[ 0.94180053, -1.1163607 , -0.14706208, -1.8684183 ],\n",
       "       [ 0.87468606,  1.1291984 ,  2.2395656 , -2.4310803 ],\n",
       "       [ 0.66759086, -1.4921861 ,  1.3350419 ,  1.0678979 ]],      dtype=float32)"
      ]
     },
     "execution_count": 11,
     "metadata": {},
     "output_type": "execute_result"
    }
   ],
   "source": [
    "import jax\n",
    "import numpy as np\n",
    "import jax.numpy as jnp\n",
    "@jax.jit\n",
    "def f(x):\n",
    "    x = jnp.array(x)\n",
    "    tmp = x\n",
    "    print(tmp)\n",
    "    return tmp\n",
    "x=np.random.randn(3,4)\n",
    "f(f(x))"
   ]
  },
  {
   "cell_type": "code",
   "execution_count": 232,
   "metadata": {},
   "outputs": [
    {
     "name": "stdout",
     "output_type": "stream",
     "text": [
      "Help on function pure_callback_api in module jax._src.callback:\n",
      "\n",
      "pure_callback_api(callback: 'Callable[..., Any]', result_shape_dtypes: 'Any', *args: 'Any', sharding: 'SingleDeviceSharding | None' = None, vectorized: 'bool' = False, **kwargs: 'Any')\n",
      "    Applies a functionally pure Python callable. Works under :func:`jit`/:func:`~pmap`/etc.\n",
      "    \n",
      "    ``pure_callback`` enables calling a Python function in JIT-ed JAX functions.\n",
      "    The input ``callback`` will be passed NumPy arrays in place of JAX arrays and\n",
      "    should also return NumPy arrays. Execution takes place on CPU, like any\n",
      "    Python+NumPy function.\n",
      "    \n",
      "    The callback is treated as functionally pure, meaning it has no side-effects\n",
      "    and its output value depends only on its argument values. As a consequence, it\n",
      "    is safe to be called multiple times (e.g. when transformed by :func:`~vmap` or\n",
      "    :func:`~pmap`), or not to be called at all when e.g. the output of a\n",
      "    `jit`-decorated function has no data dependence on its value. Pure callbacks\n",
      "    may also be reordered if data-dependence allows.\n",
      "    \n",
      "    When :func:`~pmap`-ed, the pure callback will be called several times (one on each\n",
      "    axis of the map). When `vmap`-ed the behavior will depend on the value of the\n",
      "    ``vectorized`` keyword argument. When ``vectorized`` is ``True``, the callback\n",
      "    is assumed to obey\n",
      "    ``jax.vmap(callback)(xs) == callback(xs) == jnp.stack([callback(x) for x in xs])``.\n",
      "    Therefore, the callback will be called directly on batched inputs (where the\n",
      "    batch axes are the leading dimensions). Additionally, the callbacks should\n",
      "    return outputs that have corresponding leading batch axes. If not vectorized\n",
      "    ``callback`` will be mapped sequentially across the batched axis.\n",
      "    For example, if ``callback = lambda x, y: np.matmul(x, y)``, then we are free\n",
      "    to set ``vectorized=True`` because the ``np.matmul`` function handles\n",
      "    arbitrary leading batch dimensions.\n",
      "    \n",
      "    Args:\n",
      "      callback: A Python callable. The callable will be passed PyTrees of NumPy\n",
      "        arrays as arguments, and should return a PyTree of NumPy arrays that\n",
      "        matches ``result_shape_dtypes``.\n",
      "      result_shape_dtypes: A PyTree with leaves that are objects with ``shape``\n",
      "        and ``dtype`` attributes which represent to the shapes and dtypes of the\n",
      "        value of ``callback`` applied to ``args`` and ``kwargs``.\n",
      "      *args: The positional arguments to the callback. Must be PyTrees of JAX\n",
      "        types.\n",
      "      sharding: optional sharding that specifies the device from which the\n",
      "        callback should be invoked.\n",
      "      vectorized: A boolean that indicates whether or not ``callback`` is\n",
      "        vectorized, meaning it can handle arrays with additional leading\n",
      "        dimensions. If ``vectorized`` is `True`, when the callback is mapped\n",
      "        via `jax.vmap`, it will be called directly on inputs with leading batch\n",
      "        dimensions instead of executing ``callback`` on each mapped input\n",
      "        individually. The callback should also return outputs batched across the\n",
      "        leading axis. By default, ``vectorized`` is ``False``.\n",
      "      **kwargs: The keyword arguments to the callback. Must be PyTrees of JAX\n",
      "        types.\n",
      "    \n",
      "    Returns:\n",
      "      The value of ``callback(*args, **kwargs)``.\n",
      "\n"
     ]
    }
   ],
   "source": [
    "help(jax.pure_callback)"
   ]
  },
  {
   "cell_type": "code",
   "execution_count": 219,
   "metadata": {},
   "outputs": [],
   "source": [
    "key = jax.random.PRNGKey(42)\n",
    "state = workflow.init(key)"
   ]
  },
  {
   "cell_type": "code",
   "execution_count": 220,
   "metadata": {},
   "outputs": [
    {
     "name": "stdout",
     "output_type": "stream",
     "text": [
      "Traced<ShapedArray(float32[])>with<DynamicJaxprTrace(level=2/0)>\n"
     ]
    },
    {
     "ename": "ValueError",
     "evalue": "L must be > 0.",
     "output_type": "error",
     "traceback": [
      "\u001b[0;31m---------------------------------------------------------------------------\u001b[0m",
      "\u001b[0;31mValueError\u001b[0m                                Traceback (most recent call last)",
      "\u001b[0;32m/tmp/ipykernel_84133/500164178.py\u001b[0m in \u001b[0;36m<module>\u001b[0;34m\u001b[0m\n\u001b[1;32m      1\u001b[0m \u001b[0;32mfor\u001b[0m \u001b[0mi\u001b[0m \u001b[0;32min\u001b[0m \u001b[0mrange\u001b[0m\u001b[0;34m(\u001b[0m\u001b[0;36m10\u001b[0m\u001b[0;34m)\u001b[0m\u001b[0;34m:\u001b[0m\u001b[0;34m\u001b[0m\u001b[0;34m\u001b[0m\u001b[0m\n\u001b[0;32m----> 2\u001b[0;31m     \u001b[0mstate\u001b[0m \u001b[0;34m=\u001b[0m \u001b[0mworkflow\u001b[0m\u001b[0;34m.\u001b[0m\u001b[0mstep\u001b[0m\u001b[0;34m(\u001b[0m\u001b[0mstate\u001b[0m\u001b[0;34m)\u001b[0m\u001b[0;34m\u001b[0m\u001b[0;34m\u001b[0m\u001b[0m\n\u001b[0m",
      "\u001b[0;32m~/.local/lib/python3.10/site-packages/evox/core/module.py\u001b[0m in \u001b[0;36mwrapper\u001b[0;34m(self, state, *args, **kwargs)\u001b[0m\n\u001b[1;32m     29\u001b[0m         \u001b[0mpath\u001b[0m\u001b[0;34m,\u001b[0m \u001b[0mmatched_state\u001b[0m \u001b[0;34m=\u001b[0m \u001b[0mstate\u001b[0m\u001b[0;34m.\u001b[0m\u001b[0mfind_path_to\u001b[0m\u001b[0;34m(\u001b[0m\u001b[0mself\u001b[0m\u001b[0;34m.\u001b[0m\u001b[0m_node_id\u001b[0m\u001b[0;34m,\u001b[0m \u001b[0mself\u001b[0m\u001b[0;34m.\u001b[0m\u001b[0m_module_name\u001b[0m\u001b[0;34m)\u001b[0m\u001b[0;34m\u001b[0m\u001b[0;34m\u001b[0m\u001b[0m\n\u001b[1;32m     30\u001b[0m \u001b[0;34m\u001b[0m\u001b[0m\n\u001b[0;32m---> 31\u001b[0;31m         \u001b[0mreturn_value\u001b[0m \u001b[0;34m=\u001b[0m \u001b[0mfunc\u001b[0m\u001b[0;34m(\u001b[0m\u001b[0mself\u001b[0m\u001b[0;34m,\u001b[0m \u001b[0mmatched_state\u001b[0m\u001b[0;34m,\u001b[0m \u001b[0;34m*\u001b[0m\u001b[0margs\u001b[0m\u001b[0;34m,\u001b[0m \u001b[0;34m**\u001b[0m\u001b[0mkwargs\u001b[0m\u001b[0;34m)\u001b[0m\u001b[0;34m\u001b[0m\u001b[0;34m\u001b[0m\u001b[0m\n\u001b[0m\u001b[1;32m     32\u001b[0m \u001b[0;34m\u001b[0m\u001b[0m\n\u001b[1;32m     33\u001b[0m         \u001b[0;31m# single return value, the value must be a State\u001b[0m\u001b[0;34m\u001b[0m\u001b[0;34m\u001b[0m\u001b[0m\n",
      "\u001b[0;32m~/.local/lib/python3.10/site-packages/evox/workflows/std_workflow.py\u001b[0m in \u001b[0;36mstep\u001b[0;34m(self, state)\u001b[0m\n\u001b[1;32m    242\u001b[0m             \u001b[0mmonitor\u001b[0m\u001b[0;34m.\u001b[0m\u001b[0mpre_step\u001b[0m\u001b[0;34m(\u001b[0m\u001b[0mstate\u001b[0m\u001b[0;34m)\u001b[0m\u001b[0;34m\u001b[0m\u001b[0;34m\u001b[0m\u001b[0m\n\u001b[1;32m    243\u001b[0m \u001b[0;34m\u001b[0m\u001b[0m\n\u001b[0;32m--> 244\u001b[0;31m         \u001b[0mstate\u001b[0m \u001b[0;34m=\u001b[0m \u001b[0mself\u001b[0m\u001b[0;34m.\u001b[0m\u001b[0m_step\u001b[0m\u001b[0;34m(\u001b[0m\u001b[0mself\u001b[0m\u001b[0;34m,\u001b[0m \u001b[0mstate\u001b[0m\u001b[0;34m)\u001b[0m\u001b[0;34m\u001b[0m\u001b[0;34m\u001b[0m\u001b[0m\n\u001b[0m\u001b[1;32m    245\u001b[0m \u001b[0;34m\u001b[0m\u001b[0m\n\u001b[1;32m    246\u001b[0m         \u001b[0;32mfor\u001b[0m \u001b[0mmonitor\u001b[0m \u001b[0;32min\u001b[0m \u001b[0mself\u001b[0m\u001b[0;34m.\u001b[0m\u001b[0mregistered_hooks\u001b[0m\u001b[0;34m[\u001b[0m\u001b[0;34m\"post_step\"\u001b[0m\u001b[0;34m]\u001b[0m\u001b[0;34m:\u001b[0m\u001b[0;34m\u001b[0m\u001b[0;34m\u001b[0m\u001b[0m\n",
      "    \u001b[0;31m[... skipping hidden 12 frame]\u001b[0m\n",
      "\u001b[0;32m~/.local/lib/python3.10/site-packages/evox/workflows/std_workflow.py\u001b[0m in \u001b[0;36m_step\u001b[0;34m(self, state)\u001b[0m\n\u001b[1;32m    212\u001b[0m                 )\n\u001b[1;32m    213\u001b[0m             \u001b[0;32melse\u001b[0m\u001b[0;34m:\u001b[0m\u001b[0;34m\u001b[0m\u001b[0;34m\u001b[0m\u001b[0m\n\u001b[0;32m--> 214\u001b[0;31m                 \u001b[0;32mreturn\u001b[0m \u001b[0m_proto_step\u001b[0m\u001b[0;34m(\u001b[0m\u001b[0mself\u001b[0m\u001b[0;34m,\u001b[0m \u001b[0;32mFalse\u001b[0m\u001b[0;34m,\u001b[0m \u001b[0mstate\u001b[0m\u001b[0;34m)\u001b[0m\u001b[0;34m\u001b[0m\u001b[0;34m\u001b[0m\u001b[0m\n\u001b[0m\u001b[1;32m    215\u001b[0m \u001b[0;34m\u001b[0m\u001b[0m\n\u001b[1;32m    216\u001b[0m         \u001b[0;31m# the first argument is self, which should be static\u001b[0m\u001b[0;34m\u001b[0m\u001b[0;34m\u001b[0m\u001b[0m\n",
      "\u001b[0;32m~/.local/lib/python3.10/site-packages/evox/workflows/std_workflow.py\u001b[0m in \u001b[0;36m_proto_step\u001b[0;34m(self, is_init, state)\u001b[0m\n\u001b[1;32m    160\u001b[0m             \u001b[0;31m# if the function is jitted\u001b[0m\u001b[0;34m\u001b[0m\u001b[0;34m\u001b[0m\u001b[0m\n\u001b[1;32m    161\u001b[0m             \u001b[0;32mif\u001b[0m \u001b[0mself\u001b[0m\u001b[0;34m.\u001b[0m\u001b[0mjit_problem\u001b[0m\u001b[0;34m:\u001b[0m\u001b[0;34m\u001b[0m\u001b[0;34m\u001b[0m\u001b[0m\n\u001b[0;32m--> 162\u001b[0;31m                 \u001b[0mfitness\u001b[0m\u001b[0;34m,\u001b[0m \u001b[0mstate\u001b[0m \u001b[0;34m=\u001b[0m \u001b[0mself\u001b[0m\u001b[0;34m.\u001b[0m\u001b[0mproblem\u001b[0m\u001b[0;34m.\u001b[0m\u001b[0mevaluate\u001b[0m\u001b[0;34m(\u001b[0m\u001b[0mstate\u001b[0m\u001b[0;34m,\u001b[0m \u001b[0mtransformed_cand_sol\u001b[0m\u001b[0;34m)\u001b[0m\u001b[0;34m\u001b[0m\u001b[0;34m\u001b[0m\u001b[0m\n\u001b[0m\u001b[1;32m    163\u001b[0m             \u001b[0;32melse\u001b[0m\u001b[0;34m:\u001b[0m\u001b[0;34m\u001b[0m\u001b[0;34m\u001b[0m\u001b[0m\n\u001b[1;32m    164\u001b[0m                 \u001b[0;32mif\u001b[0m \u001b[0mself\u001b[0m\u001b[0;34m.\u001b[0m\u001b[0mnum_objectives\u001b[0m \u001b[0;34m==\u001b[0m \u001b[0;36m1\u001b[0m\u001b[0;34m:\u001b[0m\u001b[0;34m\u001b[0m\u001b[0;34m\u001b[0m\u001b[0m\n",
      "    \u001b[0;31m[... skipping hidden 12 frame]\u001b[0m\n",
      "\u001b[0;32m~/.local/lib/python3.10/site-packages/evox/core/module.py\u001b[0m in \u001b[0;36mwrapper\u001b[0;34m(self, state, *args, **kwargs)\u001b[0m\n\u001b[1;32m     29\u001b[0m         \u001b[0mpath\u001b[0m\u001b[0;34m,\u001b[0m \u001b[0mmatched_state\u001b[0m \u001b[0;34m=\u001b[0m \u001b[0mstate\u001b[0m\u001b[0;34m.\u001b[0m\u001b[0mfind_path_to\u001b[0m\u001b[0;34m(\u001b[0m\u001b[0mself\u001b[0m\u001b[0;34m.\u001b[0m\u001b[0m_node_id\u001b[0m\u001b[0;34m,\u001b[0m \u001b[0mself\u001b[0m\u001b[0;34m.\u001b[0m\u001b[0m_module_name\u001b[0m\u001b[0;34m)\u001b[0m\u001b[0;34m\u001b[0m\u001b[0;34m\u001b[0m\u001b[0m\n\u001b[1;32m     30\u001b[0m \u001b[0;34m\u001b[0m\u001b[0m\n\u001b[0;32m---> 31\u001b[0;31m         \u001b[0mreturn_value\u001b[0m \u001b[0;34m=\u001b[0m \u001b[0mfunc\u001b[0m\u001b[0;34m(\u001b[0m\u001b[0mself\u001b[0m\u001b[0;34m,\u001b[0m \u001b[0mmatched_state\u001b[0m\u001b[0;34m,\u001b[0m \u001b[0;34m*\u001b[0m\u001b[0margs\u001b[0m\u001b[0;34m,\u001b[0m \u001b[0;34m**\u001b[0m\u001b[0mkwargs\u001b[0m\u001b[0;34m)\u001b[0m\u001b[0;34m\u001b[0m\u001b[0;34m\u001b[0m\u001b[0m\n\u001b[0m\u001b[1;32m     32\u001b[0m \u001b[0;34m\u001b[0m\u001b[0m\n\u001b[1;32m     33\u001b[0m         \u001b[0;31m# single return value, the value must be a State\u001b[0m\u001b[0;34m\u001b[0m\u001b[0;34m\u001b[0m\u001b[0m\n",
      "\u001b[0;32m/tmp/ipykernel_84133/2560882175.py\u001b[0m in \u001b[0;36mevaluate\u001b[0;34m(self, state, solutions)\u001b[0m\n\u001b[1;32m     42\u001b[0m               \u001b[0mfitness\u001b[0m \u001b[0;34m=\u001b[0m \u001b[0mjnp\u001b[0m\u001b[0;34m.\u001b[0m\u001b[0mzeros\u001b[0m\u001b[0;34m(\u001b[0m\u001b[0msolutions\u001b[0m\u001b[0;34m.\u001b[0m\u001b[0mshape\u001b[0m\u001b[0;34m[\u001b[0m\u001b[0;36m0\u001b[0m\u001b[0;34m]\u001b[0m\u001b[0;34m)\u001b[0m\u001b[0;34m\u001b[0m\u001b[0;34m\u001b[0m\u001b[0m\n\u001b[1;32m     43\u001b[0m               \u001b[0;32mfor\u001b[0m \u001b[0mi\u001b[0m \u001b[0;32min\u001b[0m \u001b[0mrange\u001b[0m\u001b[0;34m(\u001b[0m\u001b[0msolutions\u001b[0m\u001b[0;34m.\u001b[0m\u001b[0mshape\u001b[0m\u001b[0;34m[\u001b[0m\u001b[0;36m0\u001b[0m\u001b[0;34m]\u001b[0m\u001b[0;34m)\u001b[0m\u001b[0;34m:\u001b[0m\u001b[0;34m\u001b[0m\u001b[0;34m\u001b[0m\u001b[0m\n\u001b[0;32m---> 44\u001b[0;31m                      \u001b[0mfitness\u001b[0m\u001b[0;34m[\u001b[0m\u001b[0mi\u001b[0m\u001b[0;34m]\u001b[0m \u001b[0;34m=\u001b[0m \u001b[0mself\u001b[0m\u001b[0;34m.\u001b[0m\u001b[0m_fitness_func\u001b[0m\u001b[0;34m(\u001b[0m\u001b[0msolutions\u001b[0m\u001b[0;34m,\u001b[0m\u001b[0mi\u001b[0m\u001b[0;34m)\u001b[0m\u001b[0;34m\u001b[0m\u001b[0;34m\u001b[0m\u001b[0m\n\u001b[0m\u001b[1;32m     45\u001b[0m               \u001b[0;32mreturn\u001b[0m \u001b[0mfitness\u001b[0m\u001b[0;34m,\u001b[0m \u001b[0mstate\u001b[0m\u001b[0;34m\u001b[0m\u001b[0;34m\u001b[0m\u001b[0m\n\u001b[1;32m     46\u001b[0m \u001b[0mproblem\u001b[0m \u001b[0;34m=\u001b[0m \u001b[0mMatchSignal\u001b[0m\u001b[0;34m(\u001b[0m\u001b[0;34m)\u001b[0m\u001b[0;34m\u001b[0m\u001b[0;34m\u001b[0m\u001b[0m\n",
      "\u001b[0;32m/tmp/ipykernel_84133/2560882175.py\u001b[0m in \u001b[0;36m_fitness_func\u001b[0;34m(self, solution, i)\u001b[0m\n\u001b[1;32m     27\u001b[0m        \u001b[0;32mdef\u001b[0m \u001b[0m_fitness_func\u001b[0m\u001b[0;34m(\u001b[0m\u001b[0mself\u001b[0m\u001b[0;34m,\u001b[0m \u001b[0msolution\u001b[0m\u001b[0;34m,\u001b[0m \u001b[0mi\u001b[0m\u001b[0;34m)\u001b[0m\u001b[0;34m:\u001b[0m\u001b[0;34m\u001b[0m\u001b[0;34m\u001b[0m\u001b[0m\n\u001b[1;32m     28\u001b[0m               \u001b[0mprint\u001b[0m\u001b[0;34m(\u001b[0m\u001b[0msolution\u001b[0m\u001b[0;34m.\u001b[0m\u001b[0mat\u001b[0m\u001b[0;34m[\u001b[0m\u001b[0mi\u001b[0m\u001b[0;34m,\u001b[0m\u001b[0;36m0\u001b[0m\u001b[0;34m]\u001b[0m\u001b[0;34m.\u001b[0m\u001b[0mget\u001b[0m\u001b[0;34m(\u001b[0m\u001b[0;34m)\u001b[0m\u001b[0;34m)\u001b[0m\u001b[0;34m\u001b[0m\u001b[0;34m\u001b[0m\u001b[0m\n\u001b[0;32m---> 29\u001b[0;31m               \u001b[0mself\u001b[0m\u001b[0;34m.\u001b[0m\u001b[0msoma\u001b[0m\u001b[0;34m.\u001b[0m\u001b[0mL\u001b[0m              \u001b[0;34m=\u001b[0m \u001b[0msolution\u001b[0m\u001b[0;34m.\u001b[0m\u001b[0mat\u001b[0m\u001b[0;34m[\u001b[0m\u001b[0;36m0\u001b[0m\u001b[0;34m]\u001b[0m\u001b[0;34m.\u001b[0m\u001b[0mget\u001b[0m\u001b[0;34m(\u001b[0m\u001b[0;34m)\u001b[0m\u001b[0;34m\u001b[0m\u001b[0;34m\u001b[0m\u001b[0m\n\u001b[0m\u001b[1;32m     30\u001b[0m               \u001b[0mself\u001b[0m\u001b[0;34m.\u001b[0m\u001b[0msoma\u001b[0m\u001b[0;34m.\u001b[0m\u001b[0mdiam\u001b[0m           \u001b[0;34m=\u001b[0m \u001b[0msolution\u001b[0m\u001b[0;34m.\u001b[0m\u001b[0mat\u001b[0m\u001b[0;34m[\u001b[0m\u001b[0;36m1\u001b[0m\u001b[0;34m]\u001b[0m\u001b[0;34m.\u001b[0m\u001b[0mget\u001b[0m\u001b[0;34m(\u001b[0m\u001b[0;34m)\u001b[0m\u001b[0;34m\u001b[0m\u001b[0;34m\u001b[0m\u001b[0m\n\u001b[1;32m     31\u001b[0m               \u001b[0mself\u001b[0m\u001b[0;34m.\u001b[0m\u001b[0msoma\u001b[0m\u001b[0;34m(\u001b[0m\u001b[0;36m0.5\u001b[0m\u001b[0;34m)\u001b[0m\u001b[0;34m.\u001b[0m\u001b[0mhh\u001b[0m\u001b[0;34m.\u001b[0m\u001b[0mgkbar\u001b[0m  \u001b[0;34m=\u001b[0m \u001b[0msolution\u001b[0m\u001b[0;34m.\u001b[0m\u001b[0mat\u001b[0m\u001b[0;34m[\u001b[0m\u001b[0;36m2\u001b[0m\u001b[0;34m]\u001b[0m\u001b[0;34m.\u001b[0m\u001b[0mget\u001b[0m\u001b[0;34m(\u001b[0m\u001b[0;34m)\u001b[0m\u001b[0;34m\u001b[0m\u001b[0;34m\u001b[0m\u001b[0m\n",
      "\u001b[0;31mValueError\u001b[0m: L must be > 0."
     ]
    }
   ],
   "source": [
    "for i in range(10):\n",
    "    state = workflow.step(state)"
   ]
  },
  {
   "cell_type": "code",
   "execution_count": 27,
   "metadata": {},
   "outputs": [],
   "source": [
    "params_limit = {\n",
    "   'L'      : np.linspace(4,100,100).tolist(), #um\n",
    "   'diam'   : np.linspace(5,140,100).tolist(), #um\n",
    "   'gkbar'  : np.linspace(0,100,100).tolist(),\n",
    "   'gnabar' : np.linspace(0,100,100).tolist(),\n",
    "   'gl'     : np.linspace(0,.01,100).tolist(),\n",
    "   'cm'     : np.linspace(0,10,100).tolist(),\n",
    "   'amp'    : np.linspace(0,10,100).tolist()\n",
    "}"
   ]
  },
  {
   "cell_type": "code",
   "execution_count": null,
   "metadata": {},
   "outputs": [
    {
     "ename": "",
     "evalue": "",
     "output_type": "error",
     "traceback": [
      "\u001b[1;31mFailed to start the Kernel. \n",
      "\u001b[1;31mUnable to start Kernel 'Python 3.10.12' due to a connection timeout. \n",
      "\u001b[1;31mView Jupyter <a href='command:jupyter.viewOutput'>log</a> for further details."
     ]
    }
   ],
   "source": [
    "from bokeh.io import output_notebook\n",
    "import bokeh.plotting as bkplt\n",
    "output_notebook()"
   ]
  },
  {
   "cell_type": "code",
   "execution_count": null,
   "metadata": {},
   "outputs": [
    {
     "ename": "",
     "evalue": "",
     "output_type": "error",
     "traceback": [
      "\u001b[1;31mFailed to start the Kernel. \n",
      "\u001b[1;31mUnable to start Kernel 'Python 3.10.12' due to a connection timeout. \n",
      "\u001b[1;31mView Jupyter <a href='command:jupyter.viewOutput'>log</a> for further details."
     ]
    }
   ],
   "source": [
    "f = bkplt.figure(x_axis_label='t (ms)', y_axis_label='v (mV)')\n",
    "f.line(t.as_numpy(), v.as_numpy(), line_width=3)\n",
    "bkplt.show(f)"
   ]
  },
  {
   "cell_type": "code",
   "execution_count": 88,
   "metadata": {},
   "outputs": [
    {
     "data": {
      "text/plain": [
       "['T',\n",
       " 'all',\n",
       " 'any',\n",
       " 'argmax',\n",
       " 'argmin',\n",
       " 'argpartition',\n",
       " 'argsort',\n",
       " 'astype',\n",
       " 'base',\n",
       " 'byteswap',\n",
       " 'choose',\n",
       " 'clip',\n",
       " 'compress',\n",
       " 'conj',\n",
       " 'conjugate',\n",
       " 'copy',\n",
       " 'ctypes',\n",
       " 'cumprod',\n",
       " 'cumsum',\n",
       " 'data',\n",
       " 'diagonal',\n",
       " 'dot',\n",
       " 'dtype',\n",
       " 'dump',\n",
       " 'dumps',\n",
       " 'fill',\n",
       " 'flags',\n",
       " 'flat',\n",
       " 'flatten',\n",
       " 'getfield',\n",
       " 'imag',\n",
       " 'item',\n",
       " 'itemset',\n",
       " 'itemsize',\n",
       " 'max',\n",
       " 'mean',\n",
       " 'min',\n",
       " 'nbytes',\n",
       " 'ndim',\n",
       " 'newbyteorder',\n",
       " 'nonzero',\n",
       " 'partition',\n",
       " 'prod',\n",
       " 'ptp',\n",
       " 'put',\n",
       " 'ravel',\n",
       " 'real',\n",
       " 'repeat',\n",
       " 'reshape',\n",
       " 'resize',\n",
       " 'round',\n",
       " 'searchsorted',\n",
       " 'setfield',\n",
       " 'setflags',\n",
       " 'shape',\n",
       " 'size',\n",
       " 'sort',\n",
       " 'squeeze',\n",
       " 'std',\n",
       " 'strides',\n",
       " 'sum',\n",
       " 'swapaxes',\n",
       " 'take',\n",
       " 'tobytes',\n",
       " 'tofile',\n",
       " 'tolist',\n",
       " 'tostring',\n",
       " 'trace',\n",
       " 'transpose',\n",
       " 'var',\n",
       " 'view']"
      ]
     },
     "execution_count": 88,
     "metadata": {},
     "output_type": "execute_result"
    }
   ],
   "source": [
    "vsignal = "
   ]
  },
  {
   "cell_type": "code",
   "execution_count": 92,
   "metadata": {},
   "outputs": [],
   "source": [
    "v.as_numpy().tofile('RS.csv', format='csv')"
   ]
  },
  {
   "cell_type": "code",
   "execution_count": 97,
   "metadata": {},
   "outputs": [
    {
     "name": "stdout",
     "output_type": "stream",
     "text": [
      "Help on built-in function fromstring in module numpy:\n",
      "\n",
      "fromstring(...)\n",
      "    fromstring(string, dtype=float, count=-1, *, sep, like=None)\n",
      "    \n",
      "    A new 1-D array initialized from text data in a string.\n",
      "    \n",
      "    Parameters\n",
      "    ----------\n",
      "    string : str\n",
      "        A string containing the data.\n",
      "    dtype : data-type, optional\n",
      "        The data type of the array; default: float.  For binary input data,\n",
      "        the data must be in exactly this format. Most builtin numeric types are\n",
      "        supported and extension types may be supported.\n",
      "    \n",
      "        .. versionadded:: 1.18.0\n",
      "            Complex dtypes.\n",
      "    \n",
      "    count : int, optional\n",
      "        Read this number of `dtype` elements from the data.  If this is\n",
      "        negative (the default), the count will be determined from the\n",
      "        length of the data.\n",
      "    sep : str, optional\n",
      "        The string separating numbers in the data; extra whitespace between\n",
      "        elements is also ignored.\n",
      "    \n",
      "        .. deprecated:: 1.14\n",
      "            Passing ``sep=''``, the default, is deprecated since it will\n",
      "            trigger the deprecated binary mode of this function. This mode\n",
      "            interprets `string` as binary bytes, rather than ASCII text with\n",
      "            decimal numbers, an operation which is better spelt\n",
      "            ``frombuffer(string, dtype, count)``. If `string` contains unicode\n",
      "            text, the binary mode of `fromstring` will first encode it into\n",
      "            bytes using utf-8, which will not produce sane results.\n",
      "    \n",
      "    like : array_like, optional\n",
      "        Reference object to allow the creation of arrays which are not\n",
      "        NumPy arrays. If an array-like passed in as ``like`` supports\n",
      "        the ``__array_function__`` protocol, the result will be defined\n",
      "        by it. In this case, it ensures the creation of an array object\n",
      "        compatible with that passed in via this argument.\n",
      "    \n",
      "        .. versionadded:: 1.20.0\n",
      "    \n",
      "    Returns\n",
      "    -------\n",
      "    arr : ndarray\n",
      "        The constructed array.\n",
      "    \n",
      "    Raises\n",
      "    ------\n",
      "    ValueError\n",
      "        If the string is not the correct size to satisfy the requested\n",
      "        `dtype` and `count`.\n",
      "    \n",
      "    See Also\n",
      "    --------\n",
      "    frombuffer, fromfile, fromiter\n",
      "    \n",
      "    Examples\n",
      "    --------\n",
      "    >>> np.fromstring('1 2', dtype=int, sep=' ')\n",
      "    array([1, 2])\n",
      "    >>> np.fromstring('1, 2', dtype=int, sep=',')\n",
      "    array([1, 2])\n",
      "\n"
     ]
    }
   ],
   "source": [
    "help(np.fromstring)"
   ]
  },
  {
   "cell_type": "code",
   "execution_count": 110,
   "metadata": {},
   "outputs": [],
   "source": [
    "sols_string = \"[[2.00000000e+01 2.00000000e+01 3.60000000e-02 1.20000000e-01 3.00000000e-04 1.00000000e+00 5.00000000e-01] [7.96363636e+01 8.00000000e+01 3.60000000e-02 1.20000000e-01 6.96969697e-03 6.46464646e+00 5.05050505e-01]\\\n",
    " [3.89090909e+01 6.63636364e+01 3.60000000e-02 1.20000000e-01\\\n",
    "  5.55555556e-03 5.45454545e+00 5.00000000e-01]\\\n",
    " [6.89696970e+01 4.86363636e+01 3.60000000e-02 1.20000000e-01\\\n",
    "  6.26262626e-03 5.45454545e+00 5.00000000e-01]\\\n",
    " [4.56969697e+01 8.00000000e+01 3.60000000e-02 1.20000000e-01\\\n",
    "  8.88888889e-03 8.68686869e+00 4.04040404e-01]\\\n",
    " [8.15757576e+01 4.31818182e+01 3.60000000e-02 1.20000000e-01\\\n",
    "  4.14141414e-03 9.39393939e+00 2.42424242e+00]\\\n",
    " [5.34545455e+01 8.54545455e+01 3.60000000e-02 1.20000000e-01\\\n",
    "  9.89898990e-03 8.38383838e+00 5.00000000e-01]\\\n",
    " [5.05454545e+01 3.22727273e+01 3.60000000e-02 1.20000000e-01\\\n",
    "  9.39393939e-03 9.19191919e+00 5.00000000e-01]\\\n",
    " [8.44848485e+01 9.63636364e+01 3.60000000e-02 1.20000000e-01\\\n",
    "  8.28282828e-03 6.16161616e+00 5.05050505e+00]\\\n",
    " [4.56969697e+01 1.11363636e+02 3.60000000e-02 1.20000000e-01\\\n",
    "  6.66666667e-03 7.37373737e+00 4.64646465e+00]\\\n",
    " [4.95757576e+01 4.86363636e+01 3.60000000e-02 1.20000000e-01\\\n",
    "  8.48484848e-03 8.08080808e-01 5.00000000e-01]\\\n",
    " [4.27878788e+01 3.50000000e+01 3.60000000e-02 1.20000000e-01\\\n",
    "  8.58585859e-03 1.31313131e+00 5.00000000e-01]\\\n",
    " [5.44242424e+01 6.09090909e+01 3.60000000e-02 1.20000000e-01\\\n",
    "  6.96969697e-03 9.39393939e+00 4.54545455e+00]\\\n",
    " [1.17575758e+01 8.54545455e+01 3.60000000e-02 1.20000000e-01\\\n",
    "  9.59595960e-03 7.07070707e-01 9.09090909e-01]\\\n",
    " [4.27878788e+01 4.86363636e+01 3.60000000e-02 1.20000000e-01\\\n",
    "  8.08080808e-04 0.00000000e+00 5.05050505e-01]\\\n",
    " [4.56969697e+01 8.00000000e+01 3.60000000e-02 1.20000000e-01\\\n",
    "  9.29292929e-03 4.54545455e+00 5.75757576e+00]\\\n",
    " [5.05454545e+01 5.68181818e+01 3.60000000e-02 1.20000000e-01\\\n",
    "  4.14141414e-03 9.39393939e+00 5.15151515e+00]\\\n",
    " [5.44242424e+01 6.63636364e+01 3.60000000e-02 1.20000000e-01\\\n",
    "  6.56565657e-03 5.45454545e+00 8.08080808e+00]\\\n",
    " [1.85454545e+01 8.54545455e+01 3.60000000e-02 1.20000000e-01\\\n",
    "  8.48484848e-03 1.00000000e+00 4.64646465e+00]\\\n",
    " [2.00000000e+01 1.05909091e+02 3.60000000e-02 1.20000000e-01\\\n",
    "  8.98989899e-03 9.59595960e+00 7.87878788e+00]]\""
   ]
  },
  {
   "cell_type": "code",
   "execution_count": 119,
   "metadata": {},
   "outputs": [],
   "source": [
    "sols = np.fromstring(sols_string.replace(\"[\", \"\").replace(\"]\", \"\"), sep=\" \").reshape((20,7))"
   ]
  },
  {
   "cell_type": "code",
   "execution_count": 133,
   "metadata": {},
   "outputs": [
    {
     "data": {
      "text/plain": [
       "array([4.27878788e+01, 4.86363636e+01, 3.60000000e-02, 1.20000000e-01,\n",
       "       8.08080808e-04, 0.00000000e+00, 5.05050505e-01])"
      ]
     },
     "execution_count": 133,
     "metadata": {},
     "output_type": "execute_result"
    }
   ],
   "source": [
    "sols[14]"
   ]
  },
  {
   "cell_type": "code",
   "execution_count": null,
   "metadata": {},
   "outputs": [],
   "source": [
    "solution = np.zeros(3)\n",
    "h = HodgkinHuxleyModel()\n",
    "h.dur = duration\n",
    "h.delay = delay\n",
    "h.amp = abs(solution[0])\n",
    "h.area = abs(solution[1])\n",
    "h.cm = abs(solution[2])\n",
    "h.Initialize(-65*mV)\n",
    "h.ContinueRun(250*ms)"
   ]
  },
  {
   "cell_type": "code",
   "execution_count": null,
   "metadata": {},
   "outputs": [],
   "source": [
    "import jax.numpy as np\n",
    "from neuron.units import ms, mV\n",
    "import pygad\n",
    "import json\n",
    "import os\n",
    "\n",
    "spike_type = 'FS_NoAdaptation'\n",
    "#units: [v] = [v_inf] = mV, [tau] = ms, [g] = uS/mm2, [A] = mm2, [i_ext] = nA, [c] = nF/mm2\n",
    "\n",
    "delay = 10\n",
    "duration = 230\n",
    "\n",
    "with open(\"Izhikevich_Model_Params.json\") as json_file:\n",
    "    types_params = json.load(json_file)\n",
    "iz = IzhikevichModel(types_params[spike_type])\n",
    "iz.dur = duration\n",
    "iz.delay = delay\n",
    "iz.Initialize(-65*mV)\n",
    "iz.ContinueRun(250*ms)\n",
    "\n",
    "solution = np.zeros(3)\n",
    "def fitness_func(ga_instance, solution, solution_idx):\n",
    "  h = HodgkinHuxleyModel()\n",
    "  h.dur = duration\n",
    "  h.delay = delay\n",
    "  h.amp = abs(solution[0])\n",
    "  h.area = abs(solution[1])\n",
    "  h.cm = abs(solution[2])\n",
    "  h.Initialize(-65*mV)\n",
    "  h.ContinueRun(250*ms)\n",
    "  vs_hh = h.ys[:,0]\n",
    "  fitness = 1.0/(0.001+np.sum(np.abs(vs_hh - iz.vs)))\n",
    "  return fitness\n",
    "    \n",
    "num_generations = 1\n",
    "num_parents_mating = 6\n",
    "\n",
    "fitness_function = fitness_func\n",
    "\n",
    "sol_per_pop = 10\n",
    "num_genes = len(solution)\n",
    "\n",
    "init_range_low = 0\n",
    "init_range_high = 100\n",
    "\n",
    "parent_selection_type = \"sss\"\n",
    "keep_parents = 1\n",
    "\n",
    "crossover_type = \"two_points\"\n",
    "\n",
    "mutation_type = \"random\"\n",
    "\n",
    "def on_gen(ga_instance):\n",
    "    ga_instance.best_solution()\n",
    "\n",
    "try:\n",
    "  ga_instance = pygad.load(filename=spike_type)\n",
    "except FileNotFoundError:\n",
    "  print(\"creating a new instance \\n\")\n",
    "  ga_instance = pygad.GA(num_generations=num_generations,\n",
    "                        num_parents_mating=num_parents_mating,\n",
    "                        fitness_func=fitness_function,\n",
    "                        sol_per_pop=sol_per_pop,\n",
    "                        num_genes=num_genes,\n",
    "                        init_range_low=init_range_low,\n",
    "                        init_range_high=init_range_high,\n",
    "                        parent_selection_type=parent_selection_type,\n",
    "                        keep_parents=keep_parents,\n",
    "                        crossover_type=crossover_type,\n",
    "                        mutation_by_replacement=True,\n",
    "                        mutation_type=mutation_type,\n",
    "                        mutation_num_genes=2,\n",
    "                        random_mutation_min_val=0,\n",
    "                        random_mutation_max_val=100)\n",
    "ga_instance.run()\n",
    "\n",
    "if not os.path.exists('log.txt'):\n",
    "  log_file = open('log.txt', 'a')\n",
    "  log_file.write(\"|\\tno. of generations\\t|\\tminimum fitness \\t|\\t50th percentile fitness\\t|\\tmaximum fitness \\t|\\n\")\n",
    "  log_file.write(\"-----------------------------------------------------------------------------------------------------------------------\\n\")\n",
    "else:\n",
    "  log_file = open('log.txt', 'a')\n",
    "fitnesses = ga_instance.last_generation_fitness\n",
    "log_file.write(\"|\\t\\t{}\\t\\t|\\t{:.2E}\\t\\t|\\t{:.2E}\\t\\t|\\t{:.2E}\\t\\t|\\n\".format(ga_instance.generations_completed, fitnesses.min(), np.percentile(fitnesses, 50), fitnesses.max()))\n",
    "log_file.close()\n",
    "\n",
    "while ga_instance.last_generation_fitness.mean() < 0.1 :\n",
    "  ga_instance.run()\n",
    "  fitnesses = ga_instance.last_generation_fitness\n",
    "  log_file = open('log.txt', 'a')\n",
    "  log_file.write(\"|\\t\\t{}\\t\\t|\\t{:.2E}\\t\\t|\\t{:.2E}\\t\\t|\\t{:.2E}\\t\\t|\\n\".format(ga_instance.generations_completed, fitnesses.min(), np.percentile(fitnesses, 50), fitnesses.max()))\n",
    "  log_file.close()\n",
    "  ga_instance.save(filename=spike_type)"
   ]
  },
  {
   "cell_type": "code",
   "execution_count": null,
   "metadata": {},
   "outputs": [],
   "source": [
    "pso = algorithms.PSO(\n",
    "    lb=jnp.full(shape=(2,), fill_value=-32),\n",
    "    ub=jnp.full(shape=(2,), fill_value=32),\n",
    "    pop_size=100,\n",
    ")\n",
    "ackley = problems.numerical.Ackley()"
   ]
  },
  {
   "cell_type": "code",
   "execution_count": null,
   "metadata": {},
   "outputs": [],
   "source": [
    "monitor = monitors.StdSOMonitor(record_topk=50)\n",
    "workflow = workflows.StdWorkflow(\n",
    "    pso,\n",
    "    ackley,\n",
    "    monitor=monitor,\n",
    "    record_pop=True)"
   ]
  },
  {
   "cell_type": "code",
   "execution_count": null,
   "metadata": {},
   "outputs": [],
   "source": [
    "key = random.PRNGKey(42)\n",
    "state = workflow.init(key)"
   ]
  },
  {
   "cell_type": "code",
   "execution_count": null,
   "metadata": {},
   "outputs": [],
   "source": [
    "# run the workflow for 100 steps\n",
    "for i in range(1000):\n",
    "    state = workflow.step(state)"
   ]
  },
  {
   "cell_type": "code",
   "execution_count": null,
   "metadata": {},
   "outputs": [],
   "source": [
    "monitor.flush()\n",
    "solutions = monitor.get_topk_solutions()"
   ]
  },
  {
   "cell_type": "code",
   "execution_count": null,
   "metadata": {},
   "outputs": [],
   "source": [
    "monitor.get_topk_fitness()"
   ]
  },
  {
   "cell_type": "code",
   "execution_count": null,
   "metadata": {},
   "outputs": [],
   "source": [
    "sols = solutions.reshape((2,50))\n",
    "plt.scatter(sols[0], sols[1])"
   ]
  },
  {
   "cell_type": "code",
   "execution_count": null,
   "metadata": {},
   "outputs": [],
   "source": [
    "solutions.shape"
   ]
  },
  {
   "cell_type": "code",
   "execution_count": null,
   "metadata": {},
   "outputs": [],
   "source": [
    "norm_sols = jnp.sqrt(jnp.square(solutions[:][0]) + jnp.square(solutions[:][1]**2))"
   ]
  },
  {
   "cell_type": "code",
   "execution_count": null,
   "metadata": {},
   "outputs": [],
   "source": [
    "solutions.reshape((2,50))"
   ]
  },
  {
   "cell_type": "code",
   "execution_count": null,
   "metadata": {},
   "outputs": [],
   "source": [
    "pso.ask(state)"
   ]
  },
  {
   "cell_type": "code",
   "execution_count": null,
   "metadata": {},
   "outputs": [],
   "source": []
  }
 ],
 "metadata": {
  "kernelspec": {
   "display_name": "Python 3",
   "language": "python",
   "name": "python3"
  },
  "language_info": {
   "codemirror_mode": {
    "name": "ipython",
    "version": 3
   },
   "file_extension": ".py",
   "mimetype": "text/x-python",
   "name": "python",
   "nbconvert_exporter": "python",
   "pygments_lexer": "ipython3",
   "version": "3.10.12"
  },
  "orig_nbformat": 4
 },
 "nbformat": 4,
 "nbformat_minor": 2
}
